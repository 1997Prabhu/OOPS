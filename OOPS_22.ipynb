{
 "cells": [
  {
   "cell_type": "code",
   "execution_count": 1,
   "id": "a63e5e51",
   "metadata": {},
   "outputs": [
    {
     "name": "stdout",
     "output_type": "stream",
     "text": [
      "Your expected output is: 35\n"
     ]
    }
   ],
   "source": [
    "#Challenge 1: Square Numbers and Return Their Sum\n",
    "\n",
    "class Point:\n",
    "    def __init__(self,x,y,z):\n",
    "        self.x = x\n",
    "        self.y = y\n",
    "        self.z = z\n",
    "\n",
    "    def sqSum(self):\n",
    "        self.x = self.x**2\n",
    "        self.y = self.y**2\n",
    "        self.z = self.z**2\n",
    "        sum = self.x + self.y + self.z\n",
    "        print('Your expected output is:',sum)\n",
    "x=Point(1,3,5)\n",
    "x.sqSum()"
   ]
  },
  {
   "cell_type": "code",
   "execution_count": 2,
   "id": "9e3933d4",
   "metadata": {},
   "outputs": [
    {
     "name": "stdout",
     "output_type": "stream",
     "text": [
      "Addition is:  30\n",
      "Substraction is:  10\n",
      "Multiplication is:  200\n",
      "Divide is:  2.0\n"
     ]
    }
   ],
   "source": [
    "\n",
    "#Challenge 2: Implement a Calculator Class\n",
    "class Calculator:\n",
    "\n",
    "    def __init__(self,num1,num2):\n",
    "        self.num1=num1\n",
    "        self.num2=num2\n",
    "    def add(self):\n",
    "        print(\"Addition is: \",self.num1+self.num2)\n",
    "    def subtract(self):\n",
    "        print(\"Substraction is: \",self.num2-self.num1)\n",
    "    def multiply(self):\n",
    "        print(\"Multiplication is: \",self.num1*self.num2)\n",
    "    def divide(self):\n",
    "        print(\"Divide is: \",self.num2/self.num1)\n",
    "\n",
    "x=Calculator(10,20)\n",
    "x.add()\n",
    "x.subtract()\n",
    "x.multiply()\n",
    "x.divide()"
   ]
  },
  {
   "cell_type": "code",
   "execution_count": 4,
   "id": "0deb0cf1",
   "metadata": {},
   "outputs": [
    {
     "name": "stdout",
     "output_type": "stream",
     "text": [
      "prabhuKumar\n",
      "20\n"
     ]
    }
   ],
   "source": [
    "#Challenge 3: Implement the Complete Student Class\n",
    "\n",
    "class Student:\n",
    "    __name= ''\n",
    "    __rollnum = ''\n",
    "    def setName(self,x):\n",
    "        self.__name = x\n",
    "    def getName(self):\n",
    "        return self.__name\n",
    "    def setRollNumber(self,y):\n",
    "        self.__rollnum=y\n",
    "    def getRollNumber(self):\n",
    "        return self.__rollnum\n",
    "s = Student()\n",
    "s.setName(\"prabhuKumar\")\n",
    "s.setRollNumber(20)\n",
    "print(s.getName())\n",
    "print(s.getRollNumber())"
   ]
  },
  {
   "cell_type": "code",
   "execution_count": 6,
   "id": "60679830",
   "metadata": {},
   "outputs": [
    {
     "name": "stdout",
     "output_type": "stream",
     "text": [
      "Account holder name is:  BOXER\n",
      "Dear BOXER, Your account balance is:  2000000 ₹\n",
      "Account holder name is:  prabhukumar\n",
      "Dear prabhukumar, Your account balance is:  50000 ₹\n",
      "Your intrest rate is:  5 %\n"
     ]
    }
   ],
   "source": [
    "#Challenge 4: Implement a Banking Account\n",
    "\n",
    "class Account:\n",
    "    def __init__(self,title=None,balance=0):\n",
    "        self.title=title\n",
    "        self.balance=balance\n",
    "        print(\"Account holder name is: \",self.title)\n",
    "        print(\"Dear \"+self.title+\", Your account balance is: \",self.balance,'₹')      \n",
    "\n",
    "class SavingsAccount(Account):\n",
    "    def __init__(self,title=None,balance=0,intrestRate=0):\n",
    "        super().__init__(title,balance)\n",
    "        self.intrestRate=intrestRate\n",
    "        print(\"Your intrest rate is: \",self.intrestRate,\"%\")\n",
    "\n",
    "x = Account(\"BOXER\",2000000)\n",
    "y = SavingsAccount('prabhukumar',50000,5)"
   ]
  },
  {
   "cell_type": "code",
   "execution_count": 8,
   "id": "43a4e05b",
   "metadata": {},
   "outputs": [
    {
     "name": "stdout",
     "output_type": "stream",
     "text": [
      "Account holder name is:  prabhukumar\n",
      "Dear prabhukumar, Your account balance is:  50000 ₹\n",
      "Your yearly intrest rate is:  5 %\n",
      "Dear prabhukumar, After deposit your balance is  55000 ₹\n",
      "Dear prabhukumar, After withdraw your balance is  45000 ₹\n",
      "Dear prabhukumar, Your account balance is:  45000 ₹\n",
      "Dear prabhukumar, Your Yearly intrest amount is  2500.0 ₹\n"
     ]
    }
   ],
   "source": [
    "#Challenge 5: Handling a Bank Account\n",
    "\n",
    "class Account:\n",
    "    def __init__(self,title=None,balance=0):\n",
    "        self.title=title\n",
    "        self.__balance=balance\n",
    "        print(\"Account holder name is: \",self.title)\n",
    "        print(\"Dear \"+self.title+\", Your account balance is: \",self.__balance,'₹')      \n",
    "    def getBalance(self):\n",
    "        return print(\"Dear \"+self.title+\", Your account balance is: \",self.__balance,'₹')\n",
    "    def deposit(self,amount):\n",
    "        self.__balance = self.__balance+amount\n",
    "        print('Dear '+self.title+\", After deposit your balance is \",self.__balance,'₹')\n",
    "    def withdraw(self,amount):\n",
    "        self.__balance = self.__balance-amount\n",
    "        print('Dear '+self.title+\", After withdraw your balance is \",self.__balance,'₹')\n",
    "\n",
    "class SavingsAccount(Account):\n",
    "    def __init__(self,title=None,balance=0,intrestRate=0):\n",
    "        super().__init__(title,balance)\n",
    "        self.intrestRate=intrestRate\n",
    "        self.__balance=balance\n",
    "        print(\"Your yearly intrest rate is: \",self.intrestRate,\"%\")\n",
    "    def intrestAmount(self):\n",
    "        intrestAmount = (self.intrestRate*self.__balance)/100\n",
    "        print('Dear '+self.title+\", Your Yearly intrest amount is \",intrestAmount,'₹') \n",
    "\n",
    "y = SavingsAccount('prabhukumar',50000,5)\n",
    "y.deposit(5000)\n",
    "y.withdraw(10000)\n",
    "y.getBalance()\n",
    "y.intrestAmount()"
   ]
  },
  {
   "cell_type": "code",
   "execution_count": null,
   "id": "7937ab1d",
   "metadata": {},
   "outputs": [],
   "source": []
  }
 ],
 "metadata": {
  "kernelspec": {
   "display_name": "Python 3 (ipykernel)",
   "language": "python",
   "name": "python3"
  },
  "language_info": {
   "codemirror_mode": {
    "name": "ipython",
    "version": 3
   },
   "file_extension": ".py",
   "mimetype": "text/x-python",
   "name": "python",
   "nbconvert_exporter": "python",
   "pygments_lexer": "ipython3",
   "version": "3.8.0"
  }
 },
 "nbformat": 4,
 "nbformat_minor": 5
}
